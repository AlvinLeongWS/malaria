{
 "cells": [
  {
   "cell_type": "code",
   "execution_count": 1,
   "metadata": {},
   "outputs": [],
   "source": [
    "from jupyter_plotly_dash import JupyterDash\n",
    "import dash\n",
    "import dash_core_components as dcc\n",
    "import dash_html_components as html\n",
    "from dash.dependencies import Input, Output\n",
    "import sqlite3\n",
    "import pandas as pd\n",
    "import plotly.express as px"
   ]
  },
  {
   "cell_type": "code",
   "execution_count": 2,
   "metadata": {},
   "outputs": [],
   "source": [
    "dbPath = \"https://github.com/AlvinLeongWS/malaria/malaria.db\"\n",
    "def getData(sqlStr):\n",
    "    conn = sqlite3.connect(dbPath) \n",
    "    df = pd.read_sql_query(sqlStr, conn)\n",
    "    return df"
   ]
  },
  {
   "cell_type": "code",
   "execution_count": 33,
   "metadata": {},
   "outputs": [],
   "source": [
    "def createBarChart(data, xAxis, yAxis, color, labels = None, title=None):\n",
    "    fig = px.bar(data, x=xAxis, y=yAxis, color=color, text=yAxis, labels = labels, title = title)\n",
    "    return fig\n",
    "def createPieChart(data, name, value, color, labels = None, title=None):\n",
    "    return px.pie(data, names = name, values = value, color=color, labels = labels, title = title)\n",
    "\n",
    "def convertToList(df, columnName):\n",
    "    list = []\n",
    "    for index, row in df.iterrows():\n",
    "        dict = {}\n",
    "        dict[\"label\"] = row[columnName]\n",
    "        dict[\"value\"] = row[columnName]\n",
    "        list.append(dict) \n",
    "    return list"
   ]
  },
  {
   "cell_type": "code",
   "execution_count": 34,
   "metadata": {},
   "outputs": [],
   "source": [
    "external_stylesheets = ['https://codepen.io/chriddyp/pen/bWLwgP.css']\n",
    "# external_stylesheets = ['./plotly/css/style.css']\n",
    "app = dash.Dash(__name__, external_stylesheets=external_stylesheets)\n",
    "app = JupyterDash('Example')\n",
    "\n",
    "sqlStr = \"Select Distinct Entity from Entity;\"\n",
    "Entitydf = getData(sqlStr)\n",
    "sqlStr = \"Select Entity, Year, Sum(DeathsRate) As DeathRate from malaria_death Group By Entity, Year;\"\n",
    "df1 = getData(sqlStr)\n",
    "sqlStr = \"Select a.Entity, a.Year, b.AgeGroup, a.NoOfDeaths from malaria_deaths_age a, \" \\\n",
    "    \"AgeGroup b Where a.AgeGroupID = b.ID\"\n",
    "agedf = getData(sqlStr)\n",
    "\n",
    "\n",
    "EntityList = convertToList(Entitydf, \"Entity\")\n",
    "EntityDropDown = dcc.Dropdown(id=\"EntityDD\", options=EntityList, multi=True, searchable = True, \n",
    "                            placeholder=\"Select a entity\")\n",
    "tempdf = df1.groupby([\"Year\"]).sum().reset_index()\n",
    "tempAgedf = agedf.groupby([\"AgeGroup\", \"Year\"]).sum().reset_index()\n",
    "\n",
    "sqlStr = \"Select Entity, Year, Sum(IncidenceOfMalaria) as IncidenceOfMalaria from malaria_inc Group By Entity, Year\"\n",
    "incByEntityYeardf = getData(sqlStr)\n",
    "YearList = convertToList(pd.DataFrame(incByEntityYeardf[\"Year\"].unique(), columns=[\"Year\"]), \"Year\")\n",
    "YearDropDown = dcc.Dropdown(id=\"YearDD\", options=YearList, multi=True, searchable = True, \n",
    "                            placeholder=\"Select a year\")\n",
    "\n",
    "componentList = []\n",
    "componentList.append(html.Div([EntityDropDown]))\n",
    "componentList.append(html.Div([dcc.Graph(id=\"DeathByYear\")]))\n",
    "componentList.append(html.Div([dcc.Graph(id=\"DeathByAgeGroup\")]))\n",
    "marks={\n",
    "        0: '0',\n",
    "        5: '5',\n",
    "        10: '10',\n",
    "        15: '15',\n",
    "        20: '20'\n",
    "    }\n",
    "componentList.append(html.Div([dcc.Slider(id='TopNumber',min=0,max=20, step=1, value=10,marks=marks)]))\n",
    "componentList.append(html.Div([html.P()]))\n",
    "componentList.append(html.Div([html.P()]))\n",
    "componentList.append(html.Div([YearDropDown]))\n",
    "tempTopdf = incByEntityYeardf.groupby([\"Entity\"]).sum().reset_index()\n",
    "tempTopdf = tempTopdf.head(10)\n",
    "componentList.append(html.Div([dcc.Graph(id=\"TopInc\")]))\n",
    "\n",
    "\n",
    "def appCallBack(app):\n",
    "    @app.callback(\n",
    "        dash.dependencies.Output('TopInc', 'figure'), \n",
    "        [dash.dependencies.Input('TopNumber', 'value'),\n",
    "        dash.dependencies.Input('YearDD', 'value')])\n",
    "    def updatePieChart(entities, YearValue):\n",
    "        tempTopdf = None\n",
    "        # return entities\n",
    "        if YearValue is not None:\n",
    "            if len(YearValue) > 0:\n",
    "                tempTopdf = incByEntityYeardf[incByEntityYeardf[\"Year\"].isin(YearValue)]\n",
    "                tempTopdf = tempTopdf.groupby([\"Entity\"]).sum().reset_index()\n",
    "                tempTopdf = tempTopdf.head(entities)\n",
    "                print(tempTopdf)\n",
    "            else:\n",
    "                tempTopdf = incByEntityYeardf.groupby([\"Entity\"]).sum().reset_index()\n",
    "                tempTopdf = tempTopdf.head(entities)\n",
    "        else:\n",
    "            tempTopdf = incByEntityYeardf.groupby([\"Entity\"]).sum().reset_index()\n",
    "            tempTopdf = tempTopdf.head(entities)\n",
    "        label = {\n",
    "                     \"Entity\": \"Entity\"\n",
    "                }\n",
    "        return createPieChart(tempTopdf, \"Entity\", \"IncidenceOfMalaria\", \"Entity\", label , \"Top Incidence By Entity\")\n",
    "        \n",
    "    @app.callback(\n",
    "        [dash.dependencies.Output('DeathByYear', 'figure'),\n",
    "         dash.dependencies.Output('DeathByAgeGroup', 'figure')], \n",
    "        [dash.dependencies.Input('EntityDD', 'value')])\n",
    "    def updateBarChart(value):\n",
    "        tempdf = None\n",
    "        if value is not None:\n",
    "            if len(value) > 0:\n",
    "                tempdf = df1[df1[\"Entity\"].isin(value)]\n",
    "                tempdf = tempdf.groupby([\"Year\"]).sum().reset_index()\n",
    "                tempAgedf = agedf[agedf[\"Entity\"].isin(value)]\n",
    "                tempAgedf = tempAgedf.groupby([\"AgeGroup\", \"Year\"]).sum().reset_index()\n",
    "            else:\n",
    "                tempdf = df1.groupby([\"Year\"]).sum().reset_index()\n",
    "                tempAgedf = agedf.groupby([\"AgeGroup\", \"Year\"]).sum().reset_index() \n",
    "        else:\n",
    "            tempdf = df1.groupby([\"Year\"]).sum().reset_index()      \n",
    "            tempAgedf = agedf.groupby([\"AgeGroup\", \"Year\"]).sum().reset_index() \n",
    "        \n",
    "        label1 = {\n",
    "                     \"Year\": \"Year\",\n",
    "                     \"DeathRate\": \"Both - Age: Age-standardized (Rate) (per 100,000 people)\"\n",
    "                 }\n",
    "        label2 = {\n",
    "                     \"Year\": \"Year\",\n",
    "                     \"NoOfDeaths\": \"No Of Death\",\n",
    "                     \"AgeGroup\": \"Age Group\"\n",
    "                 }\n",
    "        return [createBarChart(tempdf, \"Year\", \"DeathRate\", \"Year\", label1, \"Deaths - Malaria - Sex\"), \n",
    "                createBarChart(tempAgedf, \"Year\", \"NoOfDeaths\", \"AgeGroup\", label2, \"Malaria death by age group\")]\n",
    "    \n",
    "    return html.Div(componentList)\n",
    "                                                                              \n",
    "app.layout = appCallBack(app) "
   ]
  },
  {
   "cell_type": "code",
   "execution_count": 35,
   "metadata": {
    "scrolled": false
   },
   "outputs": [
    {
     "data": {
      "text/html": [
       "<div>\n",
       "  <iframe src=\"/app/endpoints/d8823b980fe246a58cf400748c9b3adc/\" width=800 height=600 frameborder=\"0\"></iframe>\n",
       "  <hr/><a href=\"/app/endpoints/d8823b980fe246a58cf400748c9b3adc/\" target=\"_new\">Open in new window</a> for /app/endpoints/d8823b980fe246a58cf400748c9b3adc/\n",
       "</div>"
      ],
      "text/plain": [
       "<jupyter_plotly_dash.dash_wrapper.JupyterDash at 0x1ebbbcd5358>"
      ]
     },
     "execution_count": 35,
     "metadata": {},
     "output_type": "execute_result"
    }
   ],
   "source": [
    "app"
   ]
  },
  {
   "cell_type": "code",
   "execution_count": null,
   "metadata": {},
   "outputs": [],
   "source": []
  }
 ],
 "metadata": {
  "kernelspec": {
   "display_name": "Python 3",
   "language": "python",
   "name": "python3"
  },
  "language_info": {
   "codemirror_mode": {
    "name": "ipython",
    "version": 3
   },
   "file_extension": ".py",
   "mimetype": "text/x-python",
   "name": "python",
   "nbconvert_exporter": "python",
   "pygments_lexer": "ipython3",
   "version": "3.6.10"
  }
 },
 "nbformat": 4,
 "nbformat_minor": 4
}
